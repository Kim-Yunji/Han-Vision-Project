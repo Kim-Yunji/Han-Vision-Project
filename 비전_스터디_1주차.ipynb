{
  "nbformat": 4,
  "nbformat_minor": 0,
  "metadata": {
    "colab": {
      "name": "비전 스터디 1주차",
      "provenance": [],
      "authorship_tag": "ABX9TyMWLcUX0TBkr6dwPi8mPlJm"
    },
    "kernelspec": {
      "name": "python3",
      "display_name": "Python 3"
    },
    "language_info": {
      "name": "python"
    }
  },
  "cells": [
    {
      "cell_type": "markdown",
      "metadata": {
        "id": "V79ITEa3MQ2E"
      },
      "source": [
        "**텐서의 정의**"
      ]
    },
    {
      "cell_type": "code",
      "metadata": {
        "colab": {
          "base_uri": "https://localhost:8080/"
        },
        "id": "lkFzB-FzMaU1",
        "outputId": "db270cc1-43e1-4dac-ea1c-b7a51caff909"
      },
      "source": [
        "import numpy as np\n",
        "x = np.array([1.0])\n",
        "\n",
        "print(x.shape)\n",
        "\n",
        "x = np.array([1.0, 1.1])\n",
        "\n",
        "print(x.shape, x[0].shape) # 두 속성은 한 벡터로 묶여 있음. 속성 n개가 있어도 모두 rank는 1"
      ],
      "execution_count": 2,
      "outputs": [
        {
          "output_type": "stream",
          "text": [
            "(1,)\n",
            "(2,) ()\n"
          ],
          "name": "stdout"
        }
      ]
    },
    {
      "cell_type": "code",
      "metadata": {
        "colab": {
          "base_uri": "https://localhost:8080/"
        },
        "id": "WFwZ1GLyM1x1",
        "outputId": "7c126ec2-47ca-4509-d514-a6073e3e2cf9"
      },
      "source": [
        "x = np.array([[1.0, 1.1], [2.0, 2.1], [1.0, 1.1]])\n",
        "print(x.shape, x[0].shape, x[0,0].shape)   # 속성이 2개인 벡터가 3개. rank는 2"
      ],
      "execution_count": 3,
      "outputs": [
        {
          "output_type": "stream",
          "text": [
            "(3, 2) (2,) ()\n"
          ],
          "name": "stdout"
        }
      ]
    },
    {
      "cell_type": "markdown",
      "metadata": {
        "id": "hU26GDzRNO2S"
      },
      "source": [
        "**다차원 배열과 텐서의 차이**"
      ]
    },
    {
      "cell_type": "code",
      "metadata": {
        "colab": {
          "base_uri": "https://localhost:8080/"
        },
        "id": "ZtnAsBj0NRQ4",
        "outputId": "795112d2-d580-41ff-884b-8ae6a161ad1b"
      },
      "source": [
        "# 다차원 배열\n",
        "y = [\n",
        "     [1.0, 1.1],\n",
        "     [1.0, 3, 2.0]  # 모양 달라도 됨. 파이썬 리스트\n",
        "]\n",
        "print(y*2)  # y+y와 같음\n",
        "# print(y**2) 하면 오류"
      ],
      "execution_count": 4,
      "outputs": [
        {
          "output_type": "stream",
          "text": [
            "[[1.0, 1.1], [1.0, 3, 2.0], [1.0, 1.1], [1.0, 3, 2.0]]\n"
          ],
          "name": "stdout"
        }
      ]
    },
    {
      "cell_type": "code",
      "metadata": {
        "colab": {
          "base_uri": "https://localhost:8080/"
        },
        "id": "SFcebjo1NpbO",
        "outputId": "239314e7-c791-4657-a28b-6808a118d2ac"
      },
      "source": [
        "# 텐서\n",
        "x = np.array([\n",
        "  [1.0, 1.1],\n",
        "  [2.2, 1.0]\n",
        "])\n",
        "print(x*2)\n",
        "print(x**2)  # 각 값 계산"
      ],
      "execution_count": 6,
      "outputs": [
        {
          "output_type": "stream",
          "text": [
            "[[2.  2.2]\n",
            " [4.4 2. ]]\n",
            "[[1.   1.21]\n",
            " [4.84 1.  ]]\n"
          ],
          "name": "stdout"
        }
      ]
    },
    {
      "cell_type": "code",
      "metadata": {
        "id": "8qMR_VFqN-qp"
      },
      "source": [
        "'''\n",
        "import tensorflow as tf\n",
        "tf.__version__  # 텐서플로우 버전 확인\n",
        "\n",
        "!pip list  # 패키지 리스트 확인\n",
        "!pip install <some package> == <version>  # 원하는 버전 지정해서 패키지 설치\n",
        "'''"
      ],
      "execution_count": null,
      "outputs": []
    },
    {
      "cell_type": "markdown",
      "metadata": {
        "id": "PeaCc5JvOUQO"
      },
      "source": [
        "**텐서 만들기**"
      ]
    },
    {
      "cell_type": "code",
      "metadata": {
        "id": "Pjl00DBNOSGD"
      },
      "source": [
        "import numpy as np\n",
        "x = np.linspace(-1, 1, num = 21)  # -1에서 1까지 모두 21개의 데이터 생성"
      ],
      "execution_count": 9,
      "outputs": []
    },
    {
      "cell_type": "code",
      "metadata": {
        "colab": {
          "base_uri": "https://localhost:8080/"
        },
        "id": "EGMFzNVROxGu",
        "outputId": "9915bbc6-274c-4483-9ccf-388e71a3a866"
      },
      "source": [
        "y = x**2\n",
        "print(y)\n",
        "\n",
        "print(\"\")\n",
        "print(x.shape, y.shape)"
      ],
      "execution_count": 13,
      "outputs": [
        {
          "output_type": "stream",
          "text": [
            "[1.   0.81 0.64 0.49 0.36 0.25 0.16 0.09 0.04 0.01 0.   0.01 0.04 0.09\n",
            " 0.16 0.25 0.36 0.49 0.64 0.81 1.  ]\n",
            "\n",
            "(21,) (21,)\n"
          ],
          "name": "stdout"
        }
      ]
    },
    {
      "cell_type": "markdown",
      "metadata": {
        "id": "fLbPB8RsOk02"
      },
      "source": [
        "**그래프 그리기**"
      ]
    },
    {
      "cell_type": "code",
      "metadata": {
        "colab": {
          "base_uri": "https://localhost:8080/",
          "height": 265
        },
        "id": "0QbiPfgMOnVZ",
        "outputId": "39ca1316-8d80-4683-bea2-779d0d4b246a"
      },
      "source": [
        "from matplotlib import pyplot as plt\n",
        "plt.plot(x, y, '*')\n",
        "plt.show()"
      ],
      "execution_count": 15,
      "outputs": [
        {
          "output_type": "display_data",
          "data": {
            "image/png": "[encoded data removed]",
            "text/plain": [
              "<Figure size 432x288 with 1 Axes>"
            ]
          },
          "metadata": {
            "tags": [],
            "needs_background": "light"
          }
        }
      ]
    },
    {
      "cell_type": "markdown",
      "metadata": {
        "id": "ryt77VIaPHk7"
      },
      "source": [
        "**인터넷 이미지 다운로드 및 표시**"
      ]
    },
    {
      "cell_type": "code",
      "metadata": {
        "id": "M9xUzPgdPJ3I"
      },
      "source": [
        "from tensorflow import keras\n",
        "import cv2\n",
        "\n",
        "image_path = keras.utils.get_file(\"seoul.jpg\", \"http://~~~~~~\")\n",
        "image = cvw.imread(image_path)\n",
        "image = cv2.cvtColor(image, cv2.COLOR_BGR2RGB)  # convert opencv RGB for opencv?\n",
        "plt.imshow(image)\n",
        "plt.show()"
      ],
      "execution_count": null,
      "outputs": []
    }
  ]
}